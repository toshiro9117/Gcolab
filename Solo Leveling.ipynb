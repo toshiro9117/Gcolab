{
  "cells": [
    {
      "cell_type": "markdown",
      "metadata": {
        "id": "view-in-github",
        "colab_type": "text"
      },
      "source": [
        "<a href=\"https://colab.research.google.com/github/toshiro9117/Gcolab/blob/main/Solo%20Leveling.ipynb\" target=\"_parent\"><img src=\"https://colab.research.google.com/assets/colab-badge.svg\" alt=\"Open In Colab\"/></a>"
      ]
    },
    {
      "cell_type": "markdown",
      "source": [
        "# Read Me"
      ],
      "metadata": {
        "id": "pq3bqVGFgxSO"
      }
    },
    {
      "cell_type": "markdown",
      "source": [
        "**Website::** [Kamisama](https://kamisama.ml)<br><br>\n",
        "**Support Me:** [Patreon](https://www.patreon.com/villain9117)<br><br>\n",
        "**More Tutorials:** [Subscribe](https://youtube.com/@BoredAI-ld5ud/)<br><br>\n",
        "\n",
        "**Sample:** [Link](https://www.mediafire.com/folder/nqccl8wnx19jf/Images) <br><br>\n",
        "**Sample Prompt:**` masterpiece:1.3), (8k, photorealistic, RAW photo, best quality: 1.4), (1girl), beautiful face, (realistic face), (black hair, short hair:1.3), beautiful hairstyle, realistic eyes, beautiful detailed eyes, (realistic skin), beautiful skin, (navy blue sweater), absurdres, attractive, ultra high res, ultra realistic, highly detailed, golden ratio, dark, rim lighting` <br><br>\n",
        "**Negative Prompt:** `easynegative, bad-hands-5, ng_deepnegative_v1_75t, bad-picture-chill-75v, bad-image-v2-39000, verybadimagenegative_v1.3, painting, sketches, text, cropped, jpeg artifacts, ((monochrome)), ((grayscale)), (worst quality, low quality, normal quality, blurry:1.4), (ugly, morbid, mutation, disfigured:1.3), out of frame, long neck, age spot, skin blemishes, mole, acnes, cross-eyed, unbalanced eyes, different eyes color, extra fingers, mutated hands, bad anatomy, long nails, bad proportions, extra limbs, malformed limbs, missing arms, missing legs, extra arms, extra legs, fused fingers, too many fingers, twisted legs, fused legs, long neck, username, watermark, poor facial details, bad composition, deformed body features` <br><br>\n",
        "**Seed:** `1616570648`<br><br>\n",
        "**Sampler:** `DPM++ 2M Karras`<br><br>\n",
        "**Steps:** `25`<br><br>\n",
        "**Clip skip:** `2`<br><br>\n",
        "**CFG scale:** `7`<br><br>"
      ],
      "metadata": {
        "id": "M3pJTB2Bg0vb"
      }
    },
    {
      "cell_type": "markdown",
      "source": [
        "# Main Code"
      ],
      "metadata": {
        "id": "bsiZpfkU7S77"
      }
    },
    {
      "cell_type": "code",
      "execution_count": null,
      "metadata": {
        "id": "sBbcB4vwj_jm"
      },
      "outputs": [],
      "source": [
        "!curl -Lo memfix.zip https://github.com/nolanaatama/sd-webui/raw/main/memfix.zip\n",
        "!unzip /content/memfix.zip\n",
        "!apt install -qq libunwind8-dev\n",
        "!apt install -qq libcairo2-dev pkg-config python3-dev\n",
        "!dpkg -i *.deb\n",
        "%env LD_PRELOAD=libtcmalloc.so\n",
        "!rm *\n",
        "!pip install --upgrade fastapi==0.90.1\n",
        "!pip install torch==1.13.1+cu116 torchvision==0.14.1+cu116 torchaudio==0.13.1 torchtext==0.14.1 torchdata==0.5.1 --extra-index-url https://download.pytorch.org/whl/cu116 -U\n",
        "!curl -Lo sd-webui.zip https://huggingface.co/nolanaatama/webui/resolve/main/sd-webui.zip\n",
        "!unzip /content/sd-webui.zip\n",
        "!git clone https://github.com/nolanaatama/sd-webui-tunnels /content/sd-webui/extensions/sd-webui-tunnels\n",
        "!git clone https://github.com/Mikubill/sd-webui-controlnet /content/sd-webui/extensions/sd-webui-controlnet\n",
        "!git clone https://github.com/fkunn1326/openpose-editor /content/sd-webui/extensions/openpose-editor\n",
        "!git clone https://github.com/hnmr293/posex /content/sd-webui/extensions/posex\n",
        "!git clone https://github.com/DominikDoom/a1111-sd-webui-tagcomplete /content/sd-webui/extensions/a1111-sd-webui-tagcomplete\n",
        "!git clone https://github.com/hako-mikan/sd-webui-supermerger /content/sd-webui/extensions/sd-webui-supermerger\n",
        "!curl -Lo /content/sd-webui/extensions/sd-webui-images-browser.zip https://huggingface.co/nolanaatama/webui/resolve/main/sd-webui-images-browser.zip\n",
        "%cd /content/sd-webui/extensions\n",
        "!unzip /content/sd-webui/extensions/sd-webui-images-browser.zip\n",
        "%cd /content\n",
        "\n",
        "!curl -Lo /content/sd-webui/models/Stable-diffusion/neverendingDreamNED_v122BakedVae.safetensors https://civitai.com/api/download/models/64094\n",
        "!curl -Lo /content/sd-webui/models/Lora/Solo Levelling v1.5.safetensors https://civitai.com/api/download/models/18241\n",
        "\n",
        "import shutil\n",
        "shutil.rmtree('/content/sd-webui/embeddings')\n",
        "!rm sd-webui.zip\n",
        "!rm sd-webui-images-browser.zip\n",
        "%cd /content/sd-webui\n",
        "!git clone https://huggingface.co/nolanaatama/embeddings\n",
        "%cd /content/sd-webui/models\n",
        "!git clone https://huggingface.co/nolanaatama/ESRGAN\n",
        "%cd /content/sd-webui/extensions/a1111-sd-webui-tagcomplete\n",
        "!git checkout f9f7732\n",
        "%cd /content/sd-webui\n",
        "# Web UI tunnel\n",
        "!COMMANDLINE_ARGS=\"--share --disable-safe-unpickle --no-half-vae --xformers --reinstall-xformers --enable-insecure-extension --gradio-queue --remotemoe\" REQS_FILE=\"requirements.txt\" python launch.py\n",
        "# If remotemoe failed to start, change '--remotemoe' to '--cloudflared' on the COMMANDLINE_ARGS line above to use cloudflare tunnel"
      ]
    }
  ],
  "metadata": {
    "accelerator": "GPU",
    "colab": {
      "provenance": [],
      "gpuType": "T4",
      "include_colab_link": true
    },
    "gpuClass": "standard",
    "kernelspec": {
      "display_name": "Python 3",
      "name": "python3"
    },
    "language_info": {
      "name": "python"
    }
  },
  "nbformat": 4,
  "nbformat_minor": 0
}